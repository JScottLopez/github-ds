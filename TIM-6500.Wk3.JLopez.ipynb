{
  "nbformat": 4,
  "nbformat_minor": 0,
  "metadata": {
    "colab": {
      "name": "Untitled1.ipynb",
      "provenance": [],
      "authorship_tag": "ABX9TyMn9fyxRKQWYCLP6By0yBJO",
      "include_colab_link": true
    },
    "kernelspec": {
      "name": "python3",
      "display_name": "Python 3"
    },
    "language_info": {
      "name": "python"
    }
  },
  "cells": [
    {
      "cell_type": "markdown",
      "metadata": {
        "id": "view-in-github",
        "colab_type": "text"
      },
      "source": [
        "<a href=\"https://colab.research.google.com/github/JScottLopez/github-ds/blob/master/TIM-6500.Wk3.JLopez.ipynb\" target=\"_parent\"><img src=\"https://colab.research.google.com/assets/colab-badge.svg\" alt=\"Open In Colab\"/></a>"
      ]
    },
    {
      "cell_type": "markdown",
      "metadata": {
        "id": "vsPn6KKUkx_U"
      },
      "source": [
        "Joseph S. Lopez\n",
        "\n",
        "Predicting U.S. High Infection Areas For COVID-19"
      ]
    },
    {
      "cell_type": "code",
      "metadata": {
        "id": "gO-1QHWHlAqg"
      },
      "source": [
        ""
      ],
      "execution_count": null,
      "outputs": []
    }
  ]
}